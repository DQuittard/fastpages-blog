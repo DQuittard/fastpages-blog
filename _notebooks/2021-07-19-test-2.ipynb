{
 "cells": [
  {
   "cell_type": "markdown",
   "id": "c50f9c9f",
   "metadata": {},
   "source": [
    "# \"My first blog post\"\n",
    "> \"Starting a blog powered by fastpages\"\n",
    "\n",
    "- toc: false\n",
    "- branch: master\n",
    "- badges: true\n",
    "- comments: false\n",
    "- categories: [fastpages, jupyter, deeplearning]\n",
    "- image: false\n",
    "- hide: false\n",
    "- search_exclude: true"
   ]
  },
  {
   "cell_type": "markdown",
   "id": "8dd3ffea",
   "metadata": {},
   "source": [
    "So I've been starting the fastai Deep Learning for coders course. I'm a maths grad, but in my applied maths studies, we've been mainly focused about machine learning and statistics, and we've not been able to cover Deep Learning. As I am still looking for a job at the time of writing this blog spot, I figured I would try to learn Deep Learning, so that I can put it on my resume (but I'm really interesting in this topic too, so win-win).\n",
    "I've finished the first two lessons of the course, and I aim to write a small blog post every time I'll finish a few lessons, so that it will force me to remember and explain things I've learned."
   ]
  },
  {
   "cell_type": "markdown",
   "id": "9ded6fae",
   "metadata": {},
   "source": [
    "# LESSON 1\n",
    "## Setup\n",
    "In the first lesson, we've mainly been explained how Jupyter works, been introduced to fastai and PyTorch.\n",
    "We learn about the setup we'll need, aka a good GPU on a server or a Linux machine (really recommended if you want to get help ! There are a lot of bugs on Windows you can get, with no one being able to really help...).\n",
    "\n",
    "Because I use a Nvidia GPU, I installed Pop OS. The iso comes with Nvidia drivers so it's the less troublesome distro you can use to setup this. I use Anaconda, to get a nice and easy Python and Jupyter setup."
   ]
  }
 ],
 "metadata": {
  "kernelspec": {
   "display_name": "Python 3",
   "language": "python",
   "name": "python3"
  },
  "language_info": {
   "codemirror_mode": {
    "name": "ipython",
    "version": 3
   },
   "file_extension": ".py",
   "mimetype": "text/x-python",
   "name": "python",
   "nbconvert_exporter": "python",
   "pygments_lexer": "ipython3",
   "version": "3.8.5"
  }
 },
 "nbformat": 4,
 "nbformat_minor": 5
}
