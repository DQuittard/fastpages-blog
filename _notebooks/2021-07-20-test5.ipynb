{
 "cells": [
  {
   "cell_type": "markdown",
   "id": "c50f9c9f",
   "metadata": {},
   "source": [
    "# \"My first blog post\"\n",
    "> \"Starting a blog powered by fastpages\"\n",
    "\n",
    "- toc: false\n",
    "- branch: master\n",
    "- badges: true\n",
    "- comments: false\n",
    "- categories: [fastpages, jupyter, deeplearning]\n",
    "- image: false\n",
    "- hide: false\n",
    "- search_exclude: true"
   ]
  },
  {
   "cell_type": "markdown",
   "id": "92f37b44",
   "metadata": {},
   "source": [
    "So I've been starting the fastai Deep Learning for coders course. I'm a maths grad, but in my applied maths studies, we've been mainly focused about machine learning and statistics, and we've not been able to cover Deep Learning. As I am still looking for a job at the time of writing this blog spot, I figured I would try to learn Deep Learning, so that I can put it on my resume (but I'm really interesting in this topic too, so win-win).\n",
    "I've finished the first two lessons of the course, and I aim to write a small blog post every time I'll finish a few lessons, so that it will force me to remember and explain things I've learned."
   ]
  },
  {
   "cell_type": "markdown",
   "id": "6ed7996a",
   "metadata": {},
   "source": [
    "# LESSON 1\n",
    "## Setup\n",
    "In the first lesson, we've mainly been explained how Jupyter works, been introduced to fastai and PyTorch.\n",
    "We learn about the setup we'll need, aka a good GPU on a server or a Linux machine (really recommended if you want to get help ! There are a lot of bugs on Windows you can get, with no one being able to really help...).\n",
    "\n",
    "Because I use a Nvidia GPU, I installed Pop OS. The iso comes with Nvidia drivers so it's the less troublesome distro you can use to setup this. I use Anaconda, to get a nice and easy Python and Jupyter setup.\n",
    "\n",
    "![](images/desktop.png)\n"
   ]
  },
  {
   "cell_type": "markdown",
   "id": "3ef8981a",
   "metadata": {},
   "source": [
    "In the course, we were also explained some words, like an epoch which is basically one reading loop over your data; the loss is seen as a measurement of performance and the metric is the function that our loss will measure."
   ]
  },
  {
   "cell_type": "markdown",
   "id": "2db9c33c",
   "metadata": {},
   "source": [
    "## Vocabulary\n",
    "\n",
    "We were told to pay attention to our data: particularly overfitting (so pay attention to the validation and training loss). To avoid overfitting, it's recommended to test the model/architecture on data it has never seen before, hence why we use training and test sets. But, in some cases, it can be a good idea to use a 3rd validation test. \n",
    "\n",
    "We also got introduced to transfer learning and fine tuning. Transfer learning is when you use a model for a task that is not the same task it was trained for. For example, if I trained a model that can classify cats and dogs, I would then use that same model for a new task, like classifying cats based on color.\n",
    "Fine tuning is a transfer learning technique where the weights of a pre-trained model are updated by training for new epochs on a new task. Speaking of pretrained model, we were introduced to this website that has some pretrained models available to download: https://modelzoo.co/\n",
    "\n",
    "Hyperparameters are the parameters of the fitting function to decide how to fit. They're called hyperparameters to differentiate them from the regular parameters of the neural networks (for example, the weights are one parameter of a neural network).\n",
    "\n",
    "![](images/diagram_nn.png)\n",
    "\n",
    "<p style=\"text-align: center;\">Diagram of a basic neural network in the notebook</p> \n"
   ]
  },
  {
   "cell_type": "markdown",
   "id": "60d8a799",
   "metadata": {},
   "source": [
    "## Conclusions\n",
    "\n",
    "Finally, we were briefly explained how the null hypothesis is used for testing, and that p-value alone does not give us a definitive answer against the hypothesis."
   ]
  }
 ],
 "metadata": {
  "kernelspec": {
   "display_name": "Python 3",
   "language": "python",
   "name": "python3"
  },
  "language_info": {
   "codemirror_mode": {
    "name": "ipython",
    "version": 3
   },
   "file_extension": ".py",
   "mimetype": "text/x-python",
   "name": "python",
   "nbconvert_exporter": "python",
   "pygments_lexer": "ipython3",
   "version": "3.8.5"
  }
 },
 "nbformat": 4,
 "nbformat_minor": 5
}
